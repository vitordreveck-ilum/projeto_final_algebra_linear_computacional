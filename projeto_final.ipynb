{
 "cells": [
  {
   "cell_type": "markdown",
   "metadata": {},
   "source": [
    "# Projeto Final - Álgebra Linear Computacional\n",
    "## Ilum - Escola de Ciência / 2° semestre\n",
    "\n",
    "Professor: Vinicius F. Wasques\n",
    "Alunos: Andressa C. M. Costa,\n",
    "        Andriel V. M. da Silva,\n",
    "        Vitor G. Dreveck\n",
    "\n",
    "### **Método de decomposição SVD para tratamento de ruído**"
   ]
  },
  {
   "cell_type": "markdown",
   "metadata": {},
   "source": [
    "O presente trabalho, desenvolvido nas aula de Álgebra Linear Computacional, buscou desenvolver um código para tratar ruído de sinal digitais por meio de decomposição em valores singulares (SVD). O código abaixo é produto disso."
   ]
  },
  {
   "cell_type": "code",
   "execution_count": 1,
   "metadata": {},
   "outputs": [],
   "source": [
    "import numpy as np\n",
    "\n",
    "def auto_valores_auto_vetores(A):\n",
    "    \"\"\" Função para calcular auto valores e auto vetores de uma dada matriz A\n",
    "\n",
    "    Parâmetros:\n",
    "        A: uma matriz\n",
    "\n",
    "    Retornos:\n",
    "        Auto valore e auto vetores da matriz A\n",
    "    \"\"\"\n",
    "    \n",
    "    n = A.shape[0]\n",
    "    auto_valores = np.zeros(n)\n",
    "    auto_vetores = np.eye(n)\n",
    "    \n",
    "    for i in range(n):\n",
    "        x = np.random.rand(n)\n",
    "        for _ in range(1000):\n",
    "            x = np.dot(A, x)\n",
    "            x /= np.linalg.norm(x)\n",
    "\n",
    "        auto_valores[i] = np.dot(x.T, np.dot(A, x))\n",
    "        auto_vetores[:, i] = x\n",
    "    \n",
    "    return auto_valores, auto_vetores"
   ]
  },
  {
   "cell_type": "code",
   "execution_count": 2,
   "metadata": {},
   "outputs": [],
   "source": [
    "import numpy as np\n",
    "\n",
    "def decomposicao_svd(A):\n",
    "    \"\"\" Função para realizar decomposição SVD.\n",
    "\n",
    "    Parâmetros:\n",
    "        A: matriz para realizar a decomposição\n",
    "    \n",
    "    Retornos:\n",
    "        Matrizes U, s e V transposta\n",
    "    \"\"\"\n",
    "\n",
    "    AtA = np.dot(A.T, A)\n",
    "    AAt = np.dot(A, A.T)\n",
    "    \n",
    "    auto_valores_AtA, V = auto_valores_auto_vetores(AtA)\n",
    "    auto_valores_AAt, U = auto_valores_auto_vetores(AAt)\n",
    "    \n",
    "    sorted_indices_AtA = np.argsort(auto_valores_AtA)[::-1]\n",
    "    sorted_indices_AAt = np.argsort(auto_valores_AAt)[::-1]\n",
    "    \n",
    "    auto_valores_AtA = auto_valores_AtA[sorted_indices_AtA]\n",
    "    V = V[:, sorted_indices_AtA]\n",
    "    \n",
    "    auto_valores_AAt = auto_valores_AAt[sorted_indices_AAt]\n",
    "    U = U[:, sorted_indices_AAt]\n",
    "    \n",
    "    singular_values = np.sqrt(auto_valores_AtA)\n",
    "    \n",
    "    s = np.zeros((U.shape[0], V.shape[1]), dtype=float)\n",
    "    min_dimensoes = min(U.shape[0], V.shape[1])\n",
    "    s[:min_dimensoes, :min_dimensoes] = np.diag(singular_values[:min_dimensoes])\n",
    "    \n",
    "    return U, s, V.T"
   ]
  },
  {
   "cell_type": "code",
   "execution_count": 3,
   "metadata": {},
   "outputs": [],
   "source": [
    "import numpy as np\n",
    "\n",
    "def svd_denoise(sinal, rank):\n",
    "    \"\"\"Recebe um sinal e o nível de ruído e retorna o sinal sem ruído aplicando Decomposição por Valores Singulares (SVD).\n",
    "\n",
    "    Parâmetros:\n",
    "        sinal: o sinal cujo ruído se deseja tirar.\n",
    "        rank: o nível de ruído. Na prática, o número de valores singulares que se deseja manter.\n",
    "\n",
    "    Retornos:\n",
    "        denoised_sinal: o sinal sem ruído\n",
    "    \"\"\"\n",
    "    n = len(sinal)\n",
    "    matrix = np.array([sinal[i:i+rank] for i in range(n - rank + 1)])\n",
    "    \n",
    "    U, Sigma, Vt = decomposicao_svd(matrix)\n",
    "    \n",
    "    singular_values = np.diag(Sigma).copy()\n",
    "    singular_values[rank:] = 0\n",
    "    \n",
    "    Sigma_denoised = np.zeros_like(Sigma)\n",
    "    min_dim = min(Sigma.shape)\n",
    "    Sigma_denoised[:min_dim, :min_dim] = np.diag(singular_values[:min_dim])\n",
    "    \n",
    "    denoised_matrix = np.dot(U, np.dot(Sigma_denoised, Vt))\n",
    "    denoised_signal = np.mean(denoised_matrix, axis=1)\n",
    "    \n",
    "    return denoised_signal"
   ]
  },
  {
   "cell_type": "code",
   "execution_count": 26,
   "metadata": {},
   "outputs": [],
   "source": [
    "t = np.linspace(0, 2 * np.pi, 1000)\n",
    "sinal_original = np.sign(np.sin(t))\n",
    "\n",
    "ruido = np.random.normal(0, 0.1, sinal_original.shape)\n",
    "\n",
    "noisy_signal = sinal_original + ruido\n",
    "\n",
    "rank = 40  # ajustar esse valor para melhorar a performance\n",
    "denoised_signal = svd_denoise(noisy_signal, rank)"
   ]
  },
  {
   "cell_type": "markdown",
   "metadata": {},
   "source": [
    "## Sinal com ruído"
   ]
  },
  {
   "cell_type": "code",
   "execution_count": 27,
   "metadata": {},
   "outputs": [
    {
     "data": {
      "text/plain": [
       "[<matplotlib.lines.Line2D at 0x7f33135b8cd0>]"
      ]
     },
     "execution_count": 27,
     "metadata": {},
     "output_type": "execute_result"
    },
    {
     "data": {
      "image/png": "[encoded data removed]",
      "text/plain": [
       "<Figure size 432x288 with 1 Axes>"
      ]
     },
     "metadata": {
      "needs_background": "light"
     },
     "output_type": "display_data"
    }
   ],
   "source": [
    "import matplotlib.pyplot as plt\n",
    "\n",
    "figure, ax = plt.subplots()\n",
    "\n",
    "sinal = noisy_signal\n",
    "n = len(sinal)\n",
    "\n",
    "ax.plot(np.array([i for i in range(n)]), sinal)"
   ]
  },
  {
   "cell_type": "markdown",
   "metadata": {},
   "source": [
    "## Sinal tratado"
   ]
  },
  {
   "cell_type": "code",
   "execution_count": 28,
   "metadata": {},
   "outputs": [
    {
     "data": {
      "text/plain": [
       "[<matplotlib.lines.Line2D at 0x7f33135ad5e0>]"
      ]
     },
     "execution_count": 28,
     "metadata": {},
     "output_type": "execute_result"
    },
    {
     "data": {
      "image/png": "[encoded data removed]",
      "text/plain": [
       "<Figure size 432x288 with 1 Axes>"
      ]
     },
     "metadata": {
      "needs_background": "light"
     },
     "output_type": "display_data"
    }
   ],
   "source": [
    "figure, ax = plt.subplots()\n",
    "\n",
    "ax.plot(np.array([i for i in range(len(denoised_signal))]), denoised_signal)"
   ]
  },
  {
   "cell_type": "markdown",
   "metadata": {},
   "source": [
    "## Sinal original"
   ]
  },
  {
   "cell_type": "code",
   "execution_count": 29,
   "metadata": {},
   "outputs": [
    {
     "data": {
      "text/plain": [
       "[<matplotlib.lines.Line2D at 0x7f3313526310>]"
      ]
     },
     "execution_count": 29,
     "metadata": {},
     "output_type": "execute_result"
    },
    {
     "data": {
      "image/png": "[encoded data removed]",
      "text/plain": [
       "<Figure size 432x288 with 1 Axes>"
      ]
     },
     "metadata": {
      "needs_background": "light"
     },
     "output_type": "display_data"
    }
   ],
   "source": [
    "figure, ax = plt.subplots()\n",
    "\n",
    "ax.plot(np.array([i for i in range(len(sinal_original))]), sinal_original)"
   ]
  },
  {
   "cell_type": "code",
   "execution_count": null,
   "metadata": {},
   "outputs": [],
   "source": []
  }
 ],
 "metadata": {
  "kernelspec": {
   "display_name": "Python 3 (ipykernel)",
   "language": "python",
   "name": "python3"
  },
  "language_info": {
   "codemirror_mode": {
    "name": "ipython",
    "version": 3
   },
   "file_extension": ".py",
   "mimetype": "text/x-python",
   "name": "python",
   "nbconvert_exporter": "python",
   "pygments_lexer": "ipython3",
   "version": "3.9.19"
  }
 },
 "nbformat": 4,
 "nbformat_minor": 2
}
